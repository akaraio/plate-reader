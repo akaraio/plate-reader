{
 "cells": [
  {
   "cell_type": "code",
   "execution_count": null,
   "metadata": {
    "executionInfo": {
     "elapsed": 218,
     "status": "ok",
     "timestamp": 1733700622230,
     "user": {
      "displayName": "akara",
      "userId": "03294495074658875410"
     },
     "user_tz": -120
    },
    "id": "63hWf1v7YRBG"
   },
   "outputs": [],
   "source": [
    "import cv2\n",
    "import imutils\n",
    "import easyocr\n",
    "\n",
    "import numpy as np\n",
    "import matplotlib.pyplot as plt"
   ]
  },
  {
   "cell_type": "code",
   "execution_count": 124,
   "metadata": {
    "executionInfo": {
     "elapsed": 240,
     "status": "ok",
     "timestamp": 1733700626183,
     "user": {
      "displayName": "akara",
      "userId": "03294495074658875410"
     },
     "user_tz": -120
    },
    "id": "mNIMnuK1kBfY"
   },
   "outputs": [],
   "source": [
    "def get_plate_text(img_path):\n",
    "  img = cv2.imread(img_path)\n",
    "  gray = cv2.cvtColor(img, cv2.COLOR_BGR2GRAY)\n",
    "  noise = cv2.bilateralFilter(gray, 15, 20, 20)\n",
    "  edges = cv2.Canny(noise, 30, 200)\n",
    "\n",
    "  points = cv2.findContours(edges.copy(), cv2.RETR_TREE, cv2.CHAIN_APPROX_SIMPLE)\n",
    "  contour = imutils.grab_contours(points)\n",
    "  contour = sorted(contour, key=cv2.contourArea, reverse=True)[:10]\n",
    "\n",
    "  location = None\n",
    "  for line in contour:\n",
    "    approx = cv2.approxPolyDP(line, 10, True)\n",
    "    if len(approx) == 4:\n",
    "      location = approx\n",
    "      break\n",
    "\n",
    "  mask = np.zeros(gray.shape, np.uint8)\n",
    "  new_img = cv2.drawContours(mask, [location], 0, 255, -1)\n",
    "  new_img = cv2.bitwise_and(img, img, mask=mask)\n",
    "\n",
    "  (x, y) = np.where(mask==255)\n",
    "  (x1, y1) = (np.min(x), np.min(y))\n",
    "  (x2, y2) = (np.max(x), np.max(y))\n",
    "  plate = gray[x1:x2, y1:y2]\n",
    "\n",
    "  reader = easyocr.Reader(['en'], verbose=False)\n",
    "  plate_text = reader.readtext(plate)\n",
    "\n",
    "  text = plate_text[0][-2]\n",
    "  text = [l for l in text if l.islower() == 0]\n",
    "  text = ''.join(text)\n",
    "  rec_img = cv2.rectangle(img, (approx[0][0]), (approx[2][0]), (0, 255, 0), 2)\n",
    "\n",
    "  plt.imshow(cv2.cvtColor(rec_img, cv2.COLOR_BGR2RGB))\n",
    "  plt.axis('off')\n",
    "  plt.title(text);\n",
    "\n",
    "  return text"
   ]
  },
  {
   "cell_type": "code",
   "execution_count": null,
   "metadata": {
    "colab": {
     "base_uri": "https://localhost:8080/",
     "height": 384
    },
    "executionInfo": {
     "elapsed": 4130,
     "status": "ok",
     "timestamp": 1733700665499,
     "user": {
      "displayName": "akara",
      "userId": "03294495074658875410"
     },
     "user_tz": -120
    },
    "id": "MKsc8_5fknuO",
    "outputId": "70cbf170-f7dd-4dc6-9b8d-05b839f8bd77"
   },
   "outputs": [],
   "source": [
    "get_plate_text('data')"
   ]
  }
 ],
 "metadata": {
  "colab": {
   "authorship_tag": "ABX9TyP/a2OUP/zZ/Vg54ix6AOHi",
   "mount_file_id": "1nRDb-pnxGXLNYN8DmOiJla9S2X4Rxbgj",
   "provenance": []
  },
  "kernelspec": {
   "display_name": "Python 3",
   "name": "python3"
  },
  "language_info": {
   "name": "python",
   "version": "3.12.8"
  }
 },
 "nbformat": 4,
 "nbformat_minor": 0
}
